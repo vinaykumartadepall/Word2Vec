{
  "nbformat": 4,
  "nbformat_minor": 0,
  "metadata": {
    "colab": {
      "name": "Word2vec",
      "provenance": [],
      "collapsed_sections": [],
      "include_colab_link": true
    },
    "kernelspec": {
      "name": "python3",
      "display_name": "Python 3"
    }
  },
  "cells": [
    {
      "cell_type": "markdown",
      "metadata": {
        "id": "view-in-github",
        "colab_type": "text"
      },
      "source": [
        "<a href=\"https://colab.research.google.com/github/vinaykumartadepall/Word2Vec/blob/master/Word2vec.ipynb\" target=\"_parent\"><img src=\"https://colab.research.google.com/assets/colab-badge.svg\" alt=\"Open In Colab\"/></a>"
      ]
    },
    {
      "cell_type": "code",
      "metadata": {
        "id": "S7SyaEit7EzU",
        "colab_type": "code",
        "colab": {
          "base_uri": "https://localhost:8080/",
          "height": 85
        },
        "outputId": "6f8bcff0-2e1e-42ca-a203-216beb7a9956"
      },
      "source": [
        "import json\n",
        "import nltk\n",
        "from nltk.tokenize import RegexpTokenizer, sent_tokenize\n",
        "from nltk.corpus import stopwords\n",
        "nltk.download('stopwords')\n",
        "nltk.download('punkt')\n",
        "word_tokenizer = RegexpTokenizer(r'\\w+')\n",
        "import ast\n",
        "import pickle\n",
        "import numpy as np\n",
        "import matplotlib.pyplot as plt\n",
        "import random\n",
        "import glob\n",
        "import os.path as op\n",
        "import re"
      ],
      "execution_count": null,
      "outputs": [
        {
          "output_type": "stream",
          "text": [
            "[nltk_data] Downloading package stopwords to /root/nltk_data...\n",
            "[nltk_data]   Package stopwords is already up-to-date!\n",
            "[nltk_data] Downloading package punkt to /root/nltk_data...\n",
            "[nltk_data]   Package punkt is already up-to-date!\n"
          ],
          "name": "stdout"
        }
      ]
    },
    {
      "cell_type": "code",
      "metadata": {
        "id": "Yr29VcGGmBtL",
        "colab_type": "code",
        "colab": {}
      },
      "source": [
        "raw_data = []\n",
        "for line in open('/content/drive/My Drive/a1/reviews_Electronics_5.json', 'r'):\n",
        "raw_data.append(json.loads(line)['reviewText'].lower())\n",
        "\n",
        "raw_data = np.array(raw_data[:1000])\n",
        "# print(raw_data[0])"
      ],
      "execution_count": null,
      "outputs": []
    },
    {
      "cell_type": "code",
      "metadata": {
        "id": "xNs2djOPK8ZK",
        "colab_type": "code",
        "colab": {
          "base_uri": "https://localhost:8080/",
          "height": 51
        },
        "outputId": "1e38c38a-0c1a-4b04-87ff-c98a18b8fe60"
      },
      "source": [
        "def pre_process(raw_data):\n",
        "    word_indices = {}\n",
        "    word_frequency = {}\n",
        "    ind = 0\n",
        "    total_size = 0\n",
        "    for para in raw_data:\n",
        "        tokens = tokenizer.tokenize(para)\n",
        "        for token in tokens:\n",
        "            if not token in word_frequency:\n",
        "                word_frequency[token] = 1\n",
        "            else:\n",
        "                word_frequency[token]+=1\n",
        "\n",
        "    for word in word_frequency:\n",
        "        # if word_frequency[word] < 5:\n",
        "        #     del word_frequency[word]\n",
        "        if (word_frequency[word] > 5) and (word not in stopwords.words('english')) and not (bool(re.search(r'\\d', word))):\n",
        "            total_size += word_frequency[word]\n",
        "            word_indices[word] = ind\n",
        "            ind+=1\n",
        "    \n",
        "    print(total_size)\n",
        "    \n",
        "    new_data = []\n",
        "    new_size = 0\n",
        "    for para in raw_data:\n",
        "        new_para = []\n",
        "        for sentence in sent_tokenize(para):\n",
        "            new_sentence = []\n",
        "            tokens = tokenizer.tokenize(sentence)\n",
        "            for token in tokens:\n",
        "                if token in word_indices:\n",
        "                    ratio = word_frequency[token]/total_size\n",
        "                    prob = min(1.0,(np.sqrt(ratio/0.001)+1)*(0.001/ratio))\n",
        "                    prob = 1\n",
        "                    randn = np.random.randint(0,1000000)/1000000\n",
        "                    if randn <= prob:\n",
        "                        new_size+=1\n",
        "                        new_sentence.append(token)\n",
        "            new_para.append(new_sentence)\n",
        "        new_data.append(new_para)\n",
        "\n",
        "    # print(np.sum(np.array([len(para) for para in new_data])))\n",
        "    print(new_size)\n",
        "\n",
        "    return new_data, word_indices, ind\n",
        "\n",
        "new_data, word_indices, vocab_size = pre_process(raw_data)\n",
        "\n",
        "word_indices['$'] = vocab_size\n",
        "with open('/content/drive/My Drive/a1/word_indices.json', 'w') as outfile:\n",
        "    json.dump(word_indices, outfile)\n",
        "    \n",
        "with open('/content/drive/My Drive/a1/new_data.json', 'wb') as outfile:\n",
        "    pickle.dump(new_data,outfile)\n"
      ],
      "execution_count": null,
      "outputs": [
        {
          "output_type": "stream",
          "text": [
            "62674\n",
            "62674\n"
          ],
          "name": "stdout"
        }
      ]
    },
    {
      "cell_type": "code",
      "metadata": {
        "id": "4DEO53VKHCXs",
        "colab_type": "code",
        "colab": {
          "base_uri": "https://localhost:8080/",
          "height": 51
        },
        "outputId": "00e30d4b-654f-4fc4-f9c3-84613455b63f"
      },
      "source": [
        "def load_wordIndices():\n",
        "    with open('/content/drive/My Drive/a1/word_indices.json', 'r') as infile:\n",
        "        word_indices = json.load(infile)\n",
        "\n",
        "    with open('/content/drive/My Drive/a1/new_data.json', 'rb') as infile:\n",
        "        data = pickle.load(infile)\n",
        "\n",
        "    return data, word_indices, word_indices['$']\n",
        "    \n",
        "data, word_indices, vocab_size= load_wordIndices()\n",
        "vocab_size = 0\n",
        "for word in word_indices:\n",
        "    if word_indices[word]>=0:\n",
        "            vocab_size += 1\n",
        "\n",
        "frequencies = {}\n",
        "\n",
        "for para in data:\n",
        "    for sentence in para:\n",
        "        for word in sentence:\n",
        "            if word_indices[word] not in frequencies:\n",
        "                frequencies[word_indices[word]] = 0\n",
        "            frequencies[word_indices[word]]+=1\n",
        "\n",
        "index_word = {}\n",
        "for i in word_indices:\n",
        "    index_word[word_indices[i]] = i\n",
        "\n",
        "print(\"data size without subsampling = \", np.sum(np.array([len(para) for para in data])))\n",
        "print(\"Vocabulary size = \", vocab_size)\n",
        "# print(data)\n",
        "# print(vocab_size)\n",
        "# print(data[0])"
      ],
      "execution_count": null,
      "outputs": [
        {
          "output_type": "stream",
          "text": [
            "data size without subsampling =  7315\n",
            "Vocabulary size =  1840\n"
          ],
          "name": "stdout"
        }
      ]
    },
    {
      "cell_type": "code",
      "metadata": {
        "id": "V0JRVC4dHodl",
        "colab_type": "code",
        "colab": {
          "base_uri": "https://localhost:8080/",
          "height": 88
        },
        "outputId": "3f423de4-5cf0-4fcc-a22b-a4033850476e"
      },
      "source": [
        "def generate_train_data(data, window_size):\n",
        "    train_data = []\n",
        "    for para in data:\n",
        "        for sentence in para:\n",
        "            for i in range(len(sentence)):\n",
        "                sample = [sentence[i]]\n",
        "                context = []\n",
        "                for j in range(i-window_size, i+window_size+1):\n",
        "                    if j>=0 and j<len(sentence) and j!=i:\n",
        "                        context.append(sentence[j])\n",
        "                sample.append(context)\n",
        "                if len(context) != 0:\n",
        "                    train_data.append(sample)\n",
        "    return train_data\n",
        "\n",
        "train_data = generate_train_data(data, window_size=2)\n",
        "print(\"No of training samples generated = \",len(train_data))\n",
        "\n",
        "simws = []\n",
        "for sample in train_data:\n",
        "    if sample[0] == \"camera\":\n",
        "        simws.append(sample)\n",
        "\n",
        "print(len(simws))\n",
        "print(simws)\n",
        "\n",
        "# random.shuffle(train_data)"
      ],
      "execution_count": null,
      "outputs": [
        {
          "output_type": "stream",
          "text": [
            "No of training samples generated =  62421\n",
            "87\n",
            "[['camera', ['consider', 'negative']], ['camera', ['tablet', 'acer', 'actually', 'use']], ['camera', ['screen', 'front', 'camera', 'matter']], ['camera', ['front', 'camera', 'matter']], ['camera', ['friends', 'tablets', 'never', 'used']], ['camera', ['store', 'computer']], ['camera', ['lacks', 'gps', 'bluetooth']], ['camera', ['still', 'gps']], ['camera', ['tablet', 'except', 'gps', 'personally']], ['camera', ['front', 'nook', 'phone']], ['camera', ['nook', 'tablet']], ['camera', ['bought', 'knew', 'advance', 'one']], ['camera', ['always', 'takes']], ['camera', ['important', 'real']], ['camera', ['files', 'need', 'buy']], ['camera', ['say', 'though', 'nook', 'much']], ['camera', ['much', 'better', 'new', 'one']], ['camera', ['reviews', 'guess', 'angles', 'made']], ['camera', ['microphone', 'apps', 'place']], ['camera', ['need', 'phone', 'ipod', 'dvd']], ['camera', ['care', 'gps']], ['camera', ['lack', 'microphone', 'total', 'cost']], ['camera', ['tablet', 'without', 'gps', 'microphone']], ['camera', ['hd', 'good', 'love', 'photography']], ['camera', ['personally', 'disappointed', 'usb', 'support']], ['camera', ['lacks', 'radio', 'gps']], ['camera', ['like', 'digital', 'portable', 'hard']], ['camera', ['available', 'except']], ['camera', ['features', 'gps', 'enjoy', 'device']], ['camera', ['lacks', 'front', 'really', 'use']], ['camera', ['stars', 'instead', 'crappy', 'speaker']], ['camera', ['long', 'understand', 'powerful', 'inexpensive']], ['camera', ['need', 'one']], ['camera', ['covers', 'button', 'take', 'cover']], ['camera', ['cover', 'use', 'known', 'would']], ['camera', ['flash', 'got', 'bag']], ['camera', ['slot', 'charge', 'player', 'working']], ['camera', ['dual', 'voltage', 'battery', 'chargers']], ['camera', ['right', 'charged', 'battery', 'regular']], ['camera', ['devices', 'us', 'kindle', 'phones']], ['camera', ['backup', 'batteries', 'wish', 'purchased']], ['camera', ['months', 'using', 'card', 'issues']], ['camera', ['inexpensive', 'option']], ['camera', ['fact', 'like', 'feature', 'better']], ['camera', ['internal', 'memory']], ['camera', ['ones', 'sold', 'stores', 'dollars']], ['camera', ['camcorder', 'canon', 'hdmi']], ['camera', ['canon', 'video']], ['camera', ['pictures', 'videos', 'tv', 'monitor']], ['camera', ['cable', 'hook', 'tv']], ['camera', ['tv', 'turning']], ['camera', ['wall', 'length']], ['camera', ['video', 'digital', 'hdtv']], ['camera', ['new', 'canon', 'hd', 'tvs']], ['camera', ['adding', 'distance', 'tv', 'viewing']], ['camera', ['use', 'canon']], ['camera', ['review', 'photos', 'via', 'hd']], ['camera', ['connect', 'canon', 'hd', 'tv']], ['camera', ['still', 'output', 'full']], ['camera', ['end', 'went', 'large', 'end']], ['camera', ['able', 'hook', 'big', 'screen']], ['camera', ['take', 'cable', 'anywhere']], ['camera', ['fits', 'canon']], ['camera', ['movies', 'card', 'panasonic', 'hdtv']], ['camera', ['canon', 'point', 'fits', 'well']], ['camera', ['put', 'bag', 'portable']], ['camera', ['portable', 'pictures', 'look', 'awesome']], ['camera', ['work', 'pull', 'time', 'actually']], ['camera', ['hd', 'output', 'large', 'screen']], ['camera', ['without', 'useless']], ['camera', ['going', 'using']], ['camera', ['able', 'control', 'tv', 'via']], ['camera', ['canon', 'port', 'connecting']], ['camera', ['cord', 'included']], ['camera', ['work', 'digital', 'used']], ['camera', ['works', 'flawlessly', 'initially', 'concerned']], ['camera', ['length', 'keep', 'close', 'view']], ['camera', ['port', 'canon', 'hdmi', 'tv']], ['camera', ['connecting', 'digital']], ['camera', ['mini', 'type', 'samsung', 'tv']], ['camera', ['two', 'one', 'computer', 'monitor']], ['camera', ['small', 'enough', 'bag', 'go']], ['camera', ['seems', 'good', 'connected', 'hdtv']], ['camera', ['little', 'distance']], ['camera', ['cable', 'run', 'tv', 'needed']], ['camera', ['videos', 'pictures', 'directly', 'television']], ['camera', ['small', 'video', 'hdmi', 'video']]]\n"
          ],
          "name": "stdout"
        }
      ]
    },
    {
      "cell_type": "code",
      "metadata": {
        "id": "ozXgyOphv3g_",
        "colab_type": "code",
        "colab": {
          "base_uri": "https://localhost:8080/",
          "height": 54
        },
        "outputId": "71d741a7-a99c-485c-e8e4-d1a13ab665ab"
      },
      "source": [
        "print(train_data[:100])"
      ],
      "execution_count": null,
      "outputs": [
        {
          "output_type": "stream",
          "text": [
            "[['got', ['gps', 'husband']], ['gps', ['got', 'husband', 'road']], ['husband', ['got', 'gps', 'road']], ['road', ['gps', 'husband']], ['impressed', ['shipping', 'time']], ['shipping', ['impressed', 'time', 'arrived']], ['time', ['impressed', 'shipping', 'arrived', 'days']], ['arrived', ['shipping', 'time', 'days', 'earlier']], ['days', ['time', 'arrived', 'earlier', 'expected']], ['earlier', ['arrived', 'days', 'expected', 'within']], ['expected', ['days', 'earlier', 'within', 'week']], ['within', ['earlier', 'expected', 'week', 'use']], ['week', ['expected', 'within', 'use', 'however']], ['use', ['within', 'week', 'however', 'started']], ['however', ['week', 'use', 'started', 'could']], ['started', ['use', 'however', 'could', 'unit']], ['could', ['however', 'started', 'unit']], ['unit', ['started', 'could']], ['worked', ['great', 'worked']], ['great', ['worked', 'worked']], ['worked', ['worked', 'great']], ['work', ['great', 'normal']], ['great', ['work', 'normal', 'person']], ['normal', ['work', 'great', 'person', 'well']], ['person', ['great', 'normal', 'well', 'option']], ['well', ['normal', 'person', 'option']], ['option', ['person', 'well']], ['big', ['truck', 'routes']], ['truck', ['big', 'routes', 'coming']], ['routes', ['big', 'truck', 'coming', 'love']], ['coming', ['truck', 'routes', 'love', 'bigger']], ['love', ['routes', 'coming', 'bigger', 'screen']], ['bigger', ['coming', 'love', 'screen', 'ease']], ['screen', ['love', 'bigger', 'ease', 'use']], ['ease', ['bigger', 'screen', 'use', 'ease']], ['use', ['screen', 'ease', 'ease', 'putting']], ['ease', ['ease', 'use', 'putting', 'memory']], ['putting', ['use', 'ease', 'memory']], ['memory', ['ease', 'putting']], ['nothing', ['really', 'bad']], ['really', ['nothing', 'bad', 'say']], ['bad', ['nothing', 'really', 'say', 'unit']], ['say', ['really', 'bad', 'unit', 'exception']], ['unit', ['bad', 'say', 'exception', 'probably']], ['exception', ['say', 'unit', 'probably', 'one']], ['probably', ['unit', 'exception', 'one', 'million']], ['one', ['exception', 'probably', 'million', 'luck']], ['million', ['probably', 'one', 'luck']], ['luck', ['one', 'million']], ['contacted', ['seller', 'within']], ['seller', ['contacted', 'within', 'minutes']], ['within', ['contacted', 'seller', 'minutes', 'email']], ['minutes', ['seller', 'within', 'email', 'received']], ['email', ['within', 'minutes', 'received', 'email']], ['received', ['minutes', 'email', 'email', 'back']], ['email', ['email', 'received', 'back', 'instructions']], ['back', ['received', 'email', 'instructions', 'exchange']], ['instructions', ['email', 'back', 'exchange']], ['exchange', ['back', 'instructions']], ['impressed', ['way', 'around']], ['way', ['impressed', 'around']], ['around', ['impressed', 'way']], ['professional', ['truck', 'driver']], ['truck', ['professional', 'driver', 'bought']], ['driver', ['professional', 'truck', 'bought', 'tnd']], ['bought', ['truck', 'driver', 'tnd', 'truck']], ['tnd', ['driver', 'bought', 'truck', 'stop']], ['truck', ['bought', 'tnd', 'stop', 'hoping']], ['stop', ['tnd', 'truck', 'hoping', 'make']], ['hoping', ['truck', 'stop', 'make', 'life']], ['make', ['stop', 'hoping', 'life', 'easier']], ['life', ['hoping', 'make', 'easier']], ['easier', ['make', 'life']], ['rand', ['mcnally', 'first']], ['mcnally', ['rand', 'first', 'thing']], ['first', ['rand', 'mcnally', 'thing', 'charging']], ['thing', ['mcnally', 'first', 'charging', 'connect']], ['charging', ['first', 'thing', 'connect', 'laptop']], ['connect', ['thing', 'charging', 'laptop', 'install']], ['laptop', ['charging', 'connect', 'install', 'software']], ['install', ['connect', 'laptop', 'software', 'update']], ['software', ['laptop', 'install', 'update']], ['update', ['install', 'software']], ['software', ['problem', 'update']], ['problem', ['software', 'update', 'wanted']], ['update', ['software', 'problem', 'wanted', 'home']], ['wanted', ['problem', 'update', 'home', 'address']], ['home', ['update', 'wanted', 'address', 'could']], ['address', ['wanted', 'home', 'could', 'sent']], ['could', ['home', 'address', 'sent', 'sd']], ['sent', ['address', 'could', 'sd', 'card']], ['sd', ['could', 'sent', 'card']], ['card', ['sent', 'sd']], ['think', ['home', 'address']], ['home', ['think', 'address', 'box']], ['address', ['think', 'home', 'box', 'friend']], ['box', ['home', 'address', 'friend', 'might']], ['friend', ['address', 'box', 'might', 'get']], ['might', ['box', 'friend', 'get', 'check']], ['get', ['friend', 'might', 'check', 'every']]]\n"
          ],
          "name": "stdout"
        }
      ]
    },
    {
      "cell_type": "code",
      "metadata": {
        "id": "HXDGgoKDwdqF",
        "colab_type": "code",
        "colab": {}
      },
      "source": [
        "# train_data = [[\"hi\",[\"hello\",\"welcome\"]], [\"bye\", [\"hello\", \"welcome\"]], [\"cool\",[\"bell\",\"bill\"]], [\"hot\", [\"bell\", \"bill\"]]]\n",
        "# vocab_size = 8\n",
        "# word_indices = {\"hi\":0, \"hello\":1, \"welcome\":2, \"bye\":3, \"cool\":4, \"bell\":5, \"bill\":6, \"hot\":7}\n",
        "# wordvec_dim = 5\n",
        "# w1 = np.random.rand(vocab_size,wordvec_dim)\n",
        "# w2 = np.random.rand(vocab_size, wordvec_dim)"
      ],
      "execution_count": null,
      "outputs": []
    },
    {
      "cell_type": "code",
      "metadata": {
        "id": "SWnT954AgKS3",
        "colab_type": "code",
        "colab": {}
      },
      "source": [
        "def sigmoid(x):\n",
        "    return 1/(1+np.exp(-x))\n",
        "\n",
        "def softmax(x):\n",
        "    sum = np.sum(np.exp(x))\n",
        "    # print(sum)\n",
        "    return (np.exp(x)/sum)\n",
        "\n",
        "# def softmax_loss(target_idx, h, w1, w2):\n",
        "#     u = np.matmul(w2,h)\n",
        "#     y = softmax(u)\n",
        "#     return -np.log(y[target_idx])\n",
        "\n",
        "def softmax_loss_grad(target_idx, x, w1, w2, context_ids):\n",
        "    h = np.matmul(w1.T,x)\n",
        "    # print(h)\n",
        "    y = softmax(np.matmul(w2,h))\n",
        "    loss = -np.log(y[target_idx])\n",
        "    \n",
        "    y[target_idx] -= 1\n",
        "    \n",
        "    # grad_w1 = np.zeros(w1.shape)\n",
        "    back_weights = np.matmul(w2.T,y)\n",
        "    if np.isnan(loss):\n",
        "        print(\"NaN encountered!!!\")\n",
        "        return 0, np.zeros(w1.shape), np.zeros(w2.shape)\n",
        "    # for id in context_ids:\n",
        "    #     grad_w1[id] = back_weights\n",
        "    \n",
        "    # grad_w1 /= len(context_ids)\n",
        "    # return loss, grad_w1, np.outer(h,y).T\n",
        "    return loss, np.outer(x, back_weights), np.outer(h, y).T\n",
        "\n",
        "def get_negSamples(num_negSamples):\n",
        "    samples = []\n",
        "    for i in range(num_negSamples):\n",
        "        rint = random.randint(0,vocab_size-1)\n",
        "        samples.append(rint)\n",
        "    return samples\n",
        "\n",
        "\n",
        "\n",
        "def negSampling_loss_grad(target_idx, context_idx, w1, w2):\n",
        "    negSamples = get_negSamples(num_negSamples = 10)\n",
        "    grad_w1 = np.zeros(w1.shape)\n",
        "    grad_w2 = np.zeros(w2[0].shape)\n",
        "    loss = -np.log(sigmoid(np.dot(w1[context_idx],w2[target_idx])))\n",
        "    loss -= np.sum(np.array([np.log(sigmoid(-np.dot(w1[x],w2[target_idx]))) for x in negSamples]))\n",
        "    \n",
        "    h = w1[context_idx]\n",
        "    y = sigmoid(np.dot(h,w2[target_idx]))\n",
        "    grad_w2 += h*(y-1)\n",
        "    grad_w1[context_idx] += w2[target_idx]*(y-1)\n",
        "\n",
        "    for i in negSamples:\n",
        "        h1 = w1[i]\n",
        "        y = sigmoid(-np.dot(h1, w2[target_idx]))\n",
        "        grad_w2 -= h1*(y-1)\n",
        "        grad_w1[target_idx] -= w2[target_idx]*(y-1)\n",
        "    \n",
        "    return loss, grad_w1,grad_w2"
      ],
      "execution_count": null,
      "outputs": []
    },
    {
      "cell_type": "code",
      "metadata": {
        "id": "FgGoa5aEo0pu",
        "colab_type": "code",
        "colab": {}
      },
      "source": [
        "# def cbow_loss(context, target, w1, w2, word_indices):\n",
        "#     h = np.zeros(len(w1[0]))\n",
        "#     for word in context:\n",
        "#         h += w1[word_indices[word]]\n",
        "#     h/=len(context)\n",
        "#     return softmax_loss(word_indices[target], h, w1, w2)\n",
        "\n",
        "def cbow_loss_grad(context, target, w1, w2, word_indices):\n",
        "    h = np.zeros(len(w1[0]))\n",
        "    inp = np.zeros(vocab_size)\n",
        "    context_ids = []\n",
        "    for word in context:\n",
        "        inp[word_indices[word]] = 1\n",
        "        context_ids.append(word_indices[word])\n",
        "        h += w1[word_indices[word]]\n",
        "    inp /= len(context)\n",
        "    h /= len(context)\n",
        "    return softmax_loss_grad(word_indices[target], inp, w1, w2, context_ids)\n",
        "\n",
        "\n",
        "def skipgram_loss_grad(context, target, w1, w2, word_indices):\n",
        "    loss = 0.0\n",
        "    grad_w1 = np.zeros(w1.shape)\n",
        "    grad_w2 = np.zeros(w2.shape)\n",
        "    for word in context:\n",
        "        loss_here, w1_here, w2_here = negSampling_loss_grad(word_indices[target], word_indices[word], w1, w2)\n",
        "        loss += loss_here\n",
        "        grad_w1 += w1_here\n",
        "        grad_w2[word_indices[target]] += w2_here\n",
        "    \n",
        "    return loss, grad_w1, grad_w2\n",
        "        "
      ],
      "execution_count": null,
      "outputs": []
    },
    {
      "cell_type": "code",
      "metadata": {
        "id": "1AZGjxVPLMMc",
        "colab_type": "code",
        "colab": {}
      },
      "source": [
        "def objective(w1, w2, word_indices, train_data, model, start, batch_size=500):\n",
        "    loss = 0\n",
        "    grad_w1 = np.zeros(w1.shape)\n",
        "    grad_w2 = np.zeros(w2.shape)\n",
        "    batch_size = min(batch_size , len(train_data)-start)\n",
        "    for i in range(batch_size):\n",
        "        sample = train_data[start+i]\n",
        "        loss_part, grad_w1_part, grad_w2_part = model(sample[1], sample[0], w1, w2, word_indices)\n",
        "        loss += loss_part\n",
        "        grad_w1 += grad_w1_part\n",
        "        grad_w2 += grad_w2_part\n",
        "\n",
        "    return loss, grad_w1/batch_size, grad_w2/batch_size"
      ],
      "execution_count": null,
      "outputs": []
    },
    {
      "cell_type": "code",
      "metadata": {
        "id": "5nwlsuSmA6q5",
        "colab_type": "code",
        "colab": {}
      },
      "source": [
        "def load_saved_params(fname):\n",
        "    with open(fname,'r') as f:\n",
        "        params = json.load(f)\n",
        "        return params\n",
        "\n",
        "def save_params(iter, params):\n",
        "    params_file = \"/content/drive/My Drive/a1/saved_params_%d.npy\" % iter\n",
        "    np.save(params_file, params)\n",
        "\n",
        "def most_similar(tar_word, w2):\n",
        "    tar_idx = word_indices[tar_word]\n",
        "    sim = []\n",
        "    for i in range(vocab_size):\n",
        "        word = index_word[i]\n",
        "        sim.append([np.dot(w2[tar_idx],w2[word_indices[word]]) / (np.linalg.norm(w2[tar_idx]) * np.linalg.norm(w2[word_indices[word]])),word])\n",
        "    matches = sorted(sim,reverse=True)\n",
        "    return matches[:10]\n",
        "    # print(matches)\n",
        "# print(index_word)\n"
      ],
      "execution_count": null,
      "outputs": []
    },
    {
      "cell_type": "code",
      "metadata": {
        "id": "JiJmXG1BSMnV",
        "colab_type": "code",
        "colab": {}
      },
      "source": [
        "def train(word_indices, train_data, wordvec_dim, batch_size, epochs = 500, notify_per = 10, learning_dec = 100, save_every = 200, learning_rate = 0.5):\n",
        "    w1 = np.random.rand(vocab_size,wordvec_dim)\n",
        "    w2 = np.random.rand(vocab_size, wordvec_dim)\n",
        "    rp = 0\n",
        "    # rp,weights,state = load_saved_params()\n",
        "    # if len(weights[0]) != 0:\n",
        "    #     w1 = weights[0]\n",
        "    #     w2 = weights[1]\n",
        "    #     learning_rate *= (0.8)** rp\n",
        "    for i in range(max(rp,1),epochs):\n",
        "        st = 0\n",
        "        loss = 0\n",
        "        while st < len(train_data):\n",
        "            loss_here, w1_grad, w2_grad = objective(w1,w2,word_indices, train_data,model=skipgram_loss_grad, start = st)\n",
        "            w1 -= w1_grad*learning_rate\n",
        "            w2 -= w2_grad*learning_rate\n",
        "            loss += loss_here\n",
        "            st += batch_size\n",
        "            if st//batch_size % notify_per == 0:\n",
        "                print(\"Batch \",st/batch_size,\" completed : loss = \", loss, \" Learning rate = \", learning_rate)\n",
        "                loss = 0\n",
        "            if st//batch_size % 20 == 0:\n",
        "                save_params(st//batch_size,np.array([w1,w2]))\n",
        "        \n",
        "        print(\"------ Epoch \",i,\" : loss = \", loss)\n",
        "        save_params(i,np.array([w1,w2]))\n",
        "        learning_rate *= 1\n",
        "        sims = most_similar(\"camera\",w2)\n",
        "        print(\"10 most words similar to camera\")\n",
        "        for k in sims:\n",
        "            print(k)\n",
        "    \n",
        "    return w1,w2\n",
        "    \n",
        "w1,w2 = train(word_indices, train_data, wordvec_dim = 50, batch_size=500, epochs = 5000)\n",
        "w1_t,w2_t = w1,w2"
      ],
      "execution_count": null,
      "outputs": []
    },
    {
      "cell_type": "code",
      "metadata": {
        "id": "f-A3THMTsiPi",
        "colab_type": "code",
        "colab": {
          "base_uri": "https://localhost:8080/",
          "height": 17
        },
        "outputId": "ca46d967-e9f5-4f84-dcd1-6b38a382538d"
      },
      "source": [
        "# visualizeWords = [\n",
        "#     \"great\", \"cool\", \"speak\", \"wonderful\", \"well\", \"amazing\",\n",
        "#     \"worth\", \"bad\",\n",
        "#     \"annoying\", \"man\",\n",
        "#      \"coffee\"]\n",
        "\n",
        "ret = load_saved_params('/content/drive/My Drive/NLP_a1_embeddings/w1_embeddings_CBOW.json')\n",
        "w2 = [ret[word] for word in ret]\n",
        "\n",
        "visualizeWords  = [ \"hi\", \"hello\", \"welcome\", \"bye\",\"cool\",\"bell\",\"bill\",\"hot\"]\n",
        "\n",
        "visualizeIdx = [word_indices[word] for word in visualizeWords]\n",
        "visualizeVecs = w2[visualizeIdx, :]\n",
        "temp = (visualizeVecs - np.mean(visualizeVecs, axis=0))\n",
        "covariance = 1.0 / len(visualizeIdx) * temp.T.dot(temp)\n",
        "U,S,V = np.linalg.svd(covariance)\n",
        "coord = temp.dot(U[:,0:2])\n",
        "print(coord)\n",
        "for i in range(len(visualizeWords)):\n",
        "    plt.text(coord[i,0], coord[i,1], visualizeWords[i],\n",
        "        bbox=dict(facecolor='green', alpha=0.1))\n",
        "\n",
        "plt.xlim((np.min(coord[:,0]), np.max(coord[:,0])))\n",
        "plt.ylim((np.min(coord[:,1]), np.max(coord[:,1])))\n",
        "\n",
        "plt.show()\n",
        "\n",
        "index_word = {}\n",
        "for i in word_indices:\n",
        "    index_word[word_indices[i]] = i\n",
        "\n",
        "def most_similar(tar_word):\n",
        "    tar_idx = word_indices[tar_word]\n",
        "    sim = []\n",
        "    for i in range(vocab_size):\n",
        "        word = index_word[i]\n",
        "        sim.append([np.dot(w2[tar_idx],w2[word_indices[word]]) / (np.linalg.norm(w2[tar_idx]) * np.linalg.norm(w2[word_indices[word]])),word])\n",
        "    matches = sorted(sim,reverse=True)\n",
        "    return matches[1:10]\n",
        "    # print(matches)\n",
        "# print(index_word)\n",
        "sims = most_similar(\"hi\")\n",
        "print(\"10 most words similar to camera\")\n",
        "for i in sims:\n",
        "    print(i)\n"
      ],
      "execution_count": null,
      "outputs": [
        {
          "output_type": "error",
          "ename": "KeyError",
          "evalue": "ignored",
          "traceback": [
            "\u001b[0;31m---------------------------------------------------------------------------\u001b[0m",
            "\u001b[0;31mKeyError\u001b[0m                                  Traceback (most recent call last)",
            "\u001b[0;32m<ipython-input-284-521280ede908>\u001b[0m in \u001b[0;36m<module>\u001b[0;34m()\u001b[0m\n\u001b[1;32m     10\u001b[0m \u001b[0mvisualizeWords\u001b[0m  \u001b[0;34m=\u001b[0m \u001b[0;34m[\u001b[0m \u001b[0;34m\"hi\"\u001b[0m\u001b[0;34m,\u001b[0m \u001b[0;34m\"hello\"\u001b[0m\u001b[0;34m,\u001b[0m \u001b[0;34m\"welcome\"\u001b[0m\u001b[0;34m,\u001b[0m \u001b[0;34m\"bye\"\u001b[0m\u001b[0;34m,\u001b[0m\u001b[0;34m\"cool\"\u001b[0m\u001b[0;34m,\u001b[0m\u001b[0;34m\"bell\"\u001b[0m\u001b[0;34m,\u001b[0m\u001b[0;34m\"bill\"\u001b[0m\u001b[0;34m,\u001b[0m\u001b[0;34m\"hot\"\u001b[0m\u001b[0;34m]\u001b[0m\u001b[0;34m\u001b[0m\u001b[0;34m\u001b[0m\u001b[0m\n\u001b[1;32m     11\u001b[0m \u001b[0;34m\u001b[0m\u001b[0m\n\u001b[0;32m---> 12\u001b[0;31m \u001b[0mvisualizeIdx\u001b[0m \u001b[0;34m=\u001b[0m \u001b[0;34m[\u001b[0m\u001b[0mword_indices\u001b[0m\u001b[0;34m[\u001b[0m\u001b[0mword\u001b[0m\u001b[0;34m]\u001b[0m \u001b[0;32mfor\u001b[0m \u001b[0mword\u001b[0m \u001b[0;32min\u001b[0m \u001b[0mvisualizeWords\u001b[0m\u001b[0;34m]\u001b[0m\u001b[0;34m\u001b[0m\u001b[0;34m\u001b[0m\u001b[0m\n\u001b[0m\u001b[1;32m     13\u001b[0m \u001b[0mvisualizeVecs\u001b[0m \u001b[0;34m=\u001b[0m \u001b[0mw2\u001b[0m\u001b[0;34m[\u001b[0m\u001b[0mvisualizeIdx\u001b[0m\u001b[0;34m,\u001b[0m \u001b[0;34m:\u001b[0m\u001b[0;34m]\u001b[0m\u001b[0;34m\u001b[0m\u001b[0;34m\u001b[0m\u001b[0m\n\u001b[1;32m     14\u001b[0m \u001b[0mtemp\u001b[0m \u001b[0;34m=\u001b[0m \u001b[0;34m(\u001b[0m\u001b[0mvisualizeVecs\u001b[0m \u001b[0;34m-\u001b[0m \u001b[0mnp\u001b[0m\u001b[0;34m.\u001b[0m\u001b[0mmean\u001b[0m\u001b[0;34m(\u001b[0m\u001b[0mvisualizeVecs\u001b[0m\u001b[0;34m,\u001b[0m \u001b[0maxis\u001b[0m\u001b[0;34m=\u001b[0m\u001b[0;36m0\u001b[0m\u001b[0;34m)\u001b[0m\u001b[0;34m)\u001b[0m\u001b[0;34m\u001b[0m\u001b[0;34m\u001b[0m\u001b[0m\n",
            "\u001b[0;32m<ipython-input-284-521280ede908>\u001b[0m in \u001b[0;36m<listcomp>\u001b[0;34m(.0)\u001b[0m\n\u001b[1;32m     10\u001b[0m \u001b[0mvisualizeWords\u001b[0m  \u001b[0;34m=\u001b[0m \u001b[0;34m[\u001b[0m \u001b[0;34m\"hi\"\u001b[0m\u001b[0;34m,\u001b[0m \u001b[0;34m\"hello\"\u001b[0m\u001b[0;34m,\u001b[0m \u001b[0;34m\"welcome\"\u001b[0m\u001b[0;34m,\u001b[0m \u001b[0;34m\"bye\"\u001b[0m\u001b[0;34m,\u001b[0m\u001b[0;34m\"cool\"\u001b[0m\u001b[0;34m,\u001b[0m\u001b[0;34m\"bell\"\u001b[0m\u001b[0;34m,\u001b[0m\u001b[0;34m\"bill\"\u001b[0m\u001b[0;34m,\u001b[0m\u001b[0;34m\"hot\"\u001b[0m\u001b[0;34m]\u001b[0m\u001b[0;34m\u001b[0m\u001b[0;34m\u001b[0m\u001b[0m\n\u001b[1;32m     11\u001b[0m \u001b[0;34m\u001b[0m\u001b[0m\n\u001b[0;32m---> 12\u001b[0;31m \u001b[0mvisualizeIdx\u001b[0m \u001b[0;34m=\u001b[0m \u001b[0;34m[\u001b[0m\u001b[0mword_indices\u001b[0m\u001b[0;34m[\u001b[0m\u001b[0mword\u001b[0m\u001b[0;34m]\u001b[0m \u001b[0;32mfor\u001b[0m \u001b[0mword\u001b[0m \u001b[0;32min\u001b[0m \u001b[0mvisualizeWords\u001b[0m\u001b[0;34m]\u001b[0m\u001b[0;34m\u001b[0m\u001b[0;34m\u001b[0m\u001b[0m\n\u001b[0m\u001b[1;32m     13\u001b[0m \u001b[0mvisualizeVecs\u001b[0m \u001b[0;34m=\u001b[0m \u001b[0mw2\u001b[0m\u001b[0;34m[\u001b[0m\u001b[0mvisualizeIdx\u001b[0m\u001b[0;34m,\u001b[0m \u001b[0;34m:\u001b[0m\u001b[0;34m]\u001b[0m\u001b[0;34m\u001b[0m\u001b[0;34m\u001b[0m\u001b[0m\n\u001b[1;32m     14\u001b[0m \u001b[0mtemp\u001b[0m \u001b[0;34m=\u001b[0m \u001b[0;34m(\u001b[0m\u001b[0mvisualizeVecs\u001b[0m \u001b[0;34m-\u001b[0m \u001b[0mnp\u001b[0m\u001b[0;34m.\u001b[0m\u001b[0mmean\u001b[0m\u001b[0;34m(\u001b[0m\u001b[0mvisualizeVecs\u001b[0m\u001b[0;34m,\u001b[0m \u001b[0maxis\u001b[0m\u001b[0;34m=\u001b[0m\u001b[0;36m0\u001b[0m\u001b[0;34m)\u001b[0m\u001b[0;34m)\u001b[0m\u001b[0;34m\u001b[0m\u001b[0;34m\u001b[0m\u001b[0m\n",
            "\u001b[0;31mKeyError\u001b[0m: 'hi'"
          ]
        }
      ]
    },
    {
      "cell_type": "code",
      "metadata": {
        "id": "wMXJUnBYyEvB",
        "colab_type": "code",
        "colab": {}
      },
      "source": [
        "    "
      ],
      "execution_count": null,
      "outputs": []
    }
  ]
}